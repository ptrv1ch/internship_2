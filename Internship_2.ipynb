{
 "cells": [
  {
   "cell_type": "code",
   "execution_count": 1,
   "id": "a7cf18e6-f591-493b-98ab-825483dbd6df",
   "metadata": {},
   "outputs": [],
   "source": [
    "import pandas as pd\n",
    "import numpy as np\n",
    "import matplotlib.pyplot as plt\n",
    "import seaborn as sns"
   ]
  },
  {
   "cell_type": "code",
   "execution_count": 2,
   "id": "2bf1ee96-6fff-4c95-8c9c-8d41471f3e7c",
   "metadata": {},
   "outputs": [],
   "source": [
    "data = pd.read_csv('./welding_data.csv')"
   ]
  },
  {
   "cell_type": "code",
   "execution_count": 3,
   "id": "a000a9e9-3950-4415-8a9c-dac8641e21e9",
   "metadata": {},
   "outputs": [
    {
     "name": "stdout",
     "output_type": "stream",
     "text": [
      "(739888, 7)\n"
     ]
    },
    {
     "data": {
      "text/html": [
       "<div>\n",
       "<style scoped>\n",
       "    .dataframe tbody tr th:only-of-type {\n",
       "        vertical-align: middle;\n",
       "    }\n",
       "\n",
       "    .dataframe tbody tr th {\n",
       "        vertical-align: top;\n",
       "    }\n",
       "\n",
       "    .dataframe thead th {\n",
       "        text-align: right;\n",
       "    }\n",
       "</style>\n",
       "<table border=\"1\" class=\"dataframe\">\n",
       "  <thead>\n",
       "    <tr style=\"text-align: right;\">\n",
       "      <th></th>\n",
       "      <th>PIPE_NO</th>\n",
       "      <th>DV_R</th>\n",
       "      <th>DA_R</th>\n",
       "      <th>AV_R</th>\n",
       "      <th>AA_R</th>\n",
       "      <th>PM_R</th>\n",
       "      <th>FIN_JGMT</th>\n",
       "    </tr>\n",
       "  </thead>\n",
       "  <tbody>\n",
       "    <tr>\n",
       "      <th>0</th>\n",
       "      <td>PP22033000042</td>\n",
       "      <td>318</td>\n",
       "      <td>7798</td>\n",
       "      <td>365</td>\n",
       "      <td>7177</td>\n",
       "      <td>9507</td>\n",
       "      <td>1</td>\n",
       "    </tr>\n",
       "    <tr>\n",
       "      <th>1</th>\n",
       "      <td>PP22033000042</td>\n",
       "      <td>318</td>\n",
       "      <td>7798</td>\n",
       "      <td>365</td>\n",
       "      <td>7177</td>\n",
       "      <td>9507</td>\n",
       "      <td>1</td>\n",
       "    </tr>\n",
       "    <tr>\n",
       "      <th>2</th>\n",
       "      <td>PP22033000042</td>\n",
       "      <td>316</td>\n",
       "      <td>8479</td>\n",
       "      <td>380</td>\n",
       "      <td>8846</td>\n",
       "      <td>9484</td>\n",
       "      <td>1</td>\n",
       "    </tr>\n",
       "    <tr>\n",
       "      <th>3</th>\n",
       "      <td>PP22033000042</td>\n",
       "      <td>316</td>\n",
       "      <td>8479</td>\n",
       "      <td>380</td>\n",
       "      <td>8846</td>\n",
       "      <td>9484</td>\n",
       "      <td>1</td>\n",
       "    </tr>\n",
       "    <tr>\n",
       "      <th>4</th>\n",
       "      <td>PP22033000042</td>\n",
       "      <td>309</td>\n",
       "      <td>7603</td>\n",
       "      <td>351</td>\n",
       "      <td>5726</td>\n",
       "      <td>9840</td>\n",
       "      <td>1</td>\n",
       "    </tr>\n",
       "    <tr>\n",
       "      <th>5</th>\n",
       "      <td>PP22033000042</td>\n",
       "      <td>309</td>\n",
       "      <td>7603</td>\n",
       "      <td>351</td>\n",
       "      <td>5726</td>\n",
       "      <td>9840</td>\n",
       "      <td>1</td>\n",
       "    </tr>\n",
       "    <tr>\n",
       "      <th>6</th>\n",
       "      <td>PP22033000042</td>\n",
       "      <td>309</td>\n",
       "      <td>7668</td>\n",
       "      <td>346</td>\n",
       "      <td>6011</td>\n",
       "      <td>9656</td>\n",
       "      <td>1</td>\n",
       "    </tr>\n",
       "    <tr>\n",
       "      <th>7</th>\n",
       "      <td>PP22033000042</td>\n",
       "      <td>309</td>\n",
       "      <td>7668</td>\n",
       "      <td>346</td>\n",
       "      <td>6011</td>\n",
       "      <td>9656</td>\n",
       "      <td>1</td>\n",
       "    </tr>\n",
       "    <tr>\n",
       "      <th>8</th>\n",
       "      <td>PP22033000042</td>\n",
       "      <td>313</td>\n",
       "      <td>9254</td>\n",
       "      <td>399</td>\n",
       "      <td>10425</td>\n",
       "      <td>9318</td>\n",
       "      <td>1</td>\n",
       "    </tr>\n",
       "    <tr>\n",
       "      <th>9</th>\n",
       "      <td>PP22033000042</td>\n",
       "      <td>313</td>\n",
       "      <td>9254</td>\n",
       "      <td>399</td>\n",
       "      <td>10425</td>\n",
       "      <td>9318</td>\n",
       "      <td>1</td>\n",
       "    </tr>\n",
       "  </tbody>\n",
       "</table>\n",
       "</div>"
      ],
      "text/plain": [
       "         PIPE_NO  DV_R  DA_R  AV_R   AA_R  PM_R  FIN_JGMT\n",
       "0  PP22033000042   318  7798   365   7177  9507         1\n",
       "1  PP22033000042   318  7798   365   7177  9507         1\n",
       "2  PP22033000042   316  8479   380   8846  9484         1\n",
       "3  PP22033000042   316  8479   380   8846  9484         1\n",
       "4  PP22033000042   309  7603   351   5726  9840         1\n",
       "5  PP22033000042   309  7603   351   5726  9840         1\n",
       "6  PP22033000042   309  7668   346   6011  9656         1\n",
       "7  PP22033000042   309  7668   346   6011  9656         1\n",
       "8  PP22033000042   313  9254   399  10425  9318         1\n",
       "9  PP22033000042   313  9254   399  10425  9318         1"
      ]
     },
     "execution_count": 3,
     "metadata": {},
     "output_type": "execute_result"
    }
   ],
   "source": [
    "print(data.shape)\n",
    "data.head(10)"
   ]
  },
  {
   "cell_type": "code",
   "execution_count": 8,
   "id": "b0c55f59-baa3-400f-9294-84dfee56752e",
   "metadata": {},
   "outputs": [
    {
     "name": "stdout",
     "output_type": "stream",
     "text": [
      "<class 'pandas.core.frame.DataFrame'>\n",
      "RangeIndex: 739888 entries, 0 to 739887\n",
      "Data columns (total 7 columns):\n",
      " #   Column    Non-Null Count   Dtype \n",
      "---  ------    --------------   ----- \n",
      " 0   PIPE_NO   739888 non-null  object\n",
      " 1   DV_R      739888 non-null  int64 \n",
      " 2   DA_R      739888 non-null  int64 \n",
      " 3   AV_R      739888 non-null  int64 \n",
      " 4   AA_R      739888 non-null  int64 \n",
      " 5   PM_R      739888 non-null  int64 \n",
      " 6   FIN_JGMT  739888 non-null  int64 \n",
      "dtypes: int64(6), object(1)\n",
      "memory usage: 39.5+ MB\n"
     ]
    }
   ],
   "source": [
    "data.info()"
   ]
  },
  {
   "cell_type": "code",
   "execution_count": 5,
   "id": "5139c3b2-d929-4a9f-86e3-aebecf4cab92",
   "metadata": {},
   "outputs": [
    {
     "name": "stdout",
     "output_type": "stream",
     "text": [
      "PIPE_NO 303\n",
      "DV_R 1113\n",
      "DA_R 4962\n",
      "AV_R 1492\n",
      "AA_R 4166\n",
      "PM_R 5406\n",
      "FIN_JGMT 2\n"
     ]
    }
   ],
   "source": [
    "for var in data.columns:\n",
    "    print(var, data[var].nunique())"
   ]
  },
  {
   "cell_type": "code",
   "execution_count": 6,
   "id": "3404edb0-2e08-48af-8878-b7057cb9c3eb",
   "metadata": {},
   "outputs": [
    {
     "name": "stdout",
     "output_type": "stream",
     "text": [
      "PIPE_NO PP21090300010 PP22033000042\n",
      "DV_R 1 12680\n",
      "DA_R 1 13701\n",
      "AV_R 11 10984\n",
      "AA_R 1 78935\n",
      "PM_R 2 50761372\n",
      "FIN_JGMT 0 1\n"
     ]
    }
   ],
   "source": [
    "for var in data.columns:\n",
    "    print(var, data[var].min(), data[var].max())"
   ]
  },
  {
   "cell_type": "code",
   "execution_count": null,
   "id": "89c1d21e-178c-49f1-8786-e3c358a31bcc",
   "metadata": {},
   "outputs": [],
   "source": []
  },
  {
   "cell_type": "code",
   "execution_count": null,
   "id": "c7fbeb11-57d3-4c2a-b0e4-46a11c30faba",
   "metadata": {},
   "outputs": [],
   "source": []
  },
  {
   "cell_type": "code",
   "execution_count": null,
   "id": "97e5893b-78c4-4c73-85e7-950359e572f0",
   "metadata": {},
   "outputs": [],
   "source": []
  },
  {
   "cell_type": "code",
   "execution_count": null,
   "id": "e3e9007d-4bfa-4383-b966-86df4219cb21",
   "metadata": {},
   "outputs": [],
   "source": []
  },
  {
   "cell_type": "code",
   "execution_count": null,
   "id": "85c0a099-46aa-4a18-81b8-dcdb4bbf2c57",
   "metadata": {},
   "outputs": [],
   "source": []
  },
  {
   "cell_type": "code",
   "execution_count": null,
   "id": "f8d02922-0fe0-4f22-9dd3-843d2de6ccac",
   "metadata": {},
   "outputs": [],
   "source": []
  },
  {
   "cell_type": "code",
   "execution_count": null,
   "id": "7a9086cb-460f-415c-9585-3467d95410d8",
   "metadata": {},
   "outputs": [],
   "source": []
  },
  {
   "cell_type": "code",
   "execution_count": null,
   "id": "0e5cb5f2-fe9e-4342-b861-9dcea4f5cb52",
   "metadata": {},
   "outputs": [],
   "source": []
  },
  {
   "cell_type": "code",
   "execution_count": null,
   "id": "b444be8c-f3b7-47cc-9237-559564ea9c6e",
   "metadata": {},
   "outputs": [],
   "source": []
  },
  {
   "cell_type": "code",
   "execution_count": null,
   "id": "65d298b6-ef72-488a-9e6a-e4949c635f52",
   "metadata": {},
   "outputs": [],
   "source": []
  },
  {
   "cell_type": "code",
   "execution_count": null,
   "id": "28604506-95c5-4756-b389-79c6f32a2667",
   "metadata": {},
   "outputs": [],
   "source": []
  }
 ],
 "metadata": {
  "kernelspec": {
   "display_name": "Python 3 (ipykernel)",
   "language": "python",
   "name": "python3"
  },
  "language_info": {
   "codemirror_mode": {
    "name": "ipython",
    "version": 3
   },
   "file_extension": ".py",
   "mimetype": "text/x-python",
   "name": "python",
   "nbconvert_exporter": "python",
   "pygments_lexer": "ipython3",
   "version": "3.11.12"
  }
 },
 "nbformat": 4,
 "nbformat_minor": 5
}
